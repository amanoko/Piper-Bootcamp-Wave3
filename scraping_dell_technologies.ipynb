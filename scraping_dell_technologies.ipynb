{
  "nbformat": 4,
  "nbformat_minor": 0,
  "metadata": {
    "colab": {
      "name": "scraping_dell-technologies.ipynb",
      "provenance": [],
      "authorship_tag": "ABX9TyN+CX7+fdjFR27dNW/9LsR4",
      "include_colab_link": true
    },
    "kernelspec": {
      "name": "python3",
      "display_name": "Python 3"
    }
  },
  "cells": [
    {
      "cell_type": "markdown",
      "metadata": {
        "id": "view-in-github",
        "colab_type": "text"
      },
      "source": [
        "<a href=\"https://colab.research.google.com/github/amanoko/Piper-Bootcamp-Wave3/blob/master/scraping_dell_technologies.ipynb\" target=\"_parent\"><img src=\"https://colab.research.google.com/assets/colab-badge.svg\" alt=\"Open In Colab\"/></a>"
      ]
    },
    {
      "cell_type": "code",
      "metadata": {
        "id": "cc3B4YKodDLQ",
        "colab_type": "code",
        "colab": {}
      },
      "source": [
        "import requests\n",
        "from bs4 import BeautifulSoup"
      ],
      "execution_count": null,
      "outputs": []
    },
    {
      "cell_type": "code",
      "metadata": {
        "id": "7KzZvsrUdODL",
        "colab_type": "code",
        "colab": {}
      },
      "source": [
        "page_url = \"https://search.yahoo.co.jp/image/search?p=dell+technologies&oq=dell+technol&ei=UTF-8&b=1\"\n",
        "\n",
        "r = requests.get(page_url)\n",
        "\n",
        "soup = BeautifulSoup(r.text, features=\"html.parser\")"
      ],
      "execution_count": null,
      "outputs": []
    },
    {
      "cell_type": "code",
      "metadata": {
        "id": "vFThn0ntdaA-",
        "colab_type": "code",
        "colab": {
          "base_uri": "https://localhost:8080/",
          "height": 383
        },
        "outputId": "5f145e75-17b4-4777-8863-5d53de4149a8"
      },
      "source": [
        "soup.find_all(\"img\", attrs={\"alt\": \"「dell technolog...」の画像検索結果\"})"
      ],
      "execution_count": null,
      "outputs": [
        {
          "output_type": "execute_result",
          "data": {
            "text/plain": [
              "[<img alt=\"「dell technolog...」の画像検索結果\" rel=\"https://media-exp1.licdn.com/dms/image/C4E0BAQERwqLK35zG0A/company-logo_200_200/0?e=2159024400&amp;amp;v=beta&amp;amp;t=jt9W4ycT0Y4g38R3gfjuGAtAzKrGfsx25YbszmHik0A|https://msp.c.yimg.jp/yjimage?q=0Mx6uMIXyLES1fvyohnbF.cZMegxSS1F_tRT23oBYA40hi9VgjD5D3tbSWv43ZiCA8irgqfwymsCUMjmdcrGQO8CWgyXCFF7.A..W1fAKUcN5r7LJUj16bbqEhOwpfwq781US9Sp8.81okJlHUgR&amp;sig=13artnn12&amp;x=200&amp;y=200|200x200|16.1kB|Dell Technologies ｜ LinkedIn|https://www.linkedin.com/company/delltechnologies|1|\" src=\"https://msp.c.yimg.jp/yjimage?q=0Mx6uMIXyLES1fvyohnbF.cZMegxSS1F_tRT23oBYA40hi9VgjD5D3tbSWv43ZiCA8irgqfwymsCUMjmdcrGQO8CWgyXCFF7.A..W1fAKUcN5r7LJUj16bbqEhOwpfwq781US9Sp8.81okJlHUgR&amp;sig=13artnn12&amp;x=200&amp;y=200\"/>,\n",
              " <img alt=\"「dell technolog...」の画像検索結果\" rel=\"https://mma.prnewswire.com/media/1089905/Dell_Technologies_Logo.jpg?p=twitter|https://msp.c.yimg.jp/yjimage?q=F7yB3vYXyLFmVoM0PVH84zRXStJdiuNL7nuwLhzd9aLsT9GECsm17MMGOE9fH6xYMDgv5chpJ6qVFlrIzku5.UoJ6ZtoTgMkkq8UFVUL8u6WEYCGNgRx2dhUw_j3Wy1TaG9vqwAE8v.X9J_DvBc0&amp;sig=13a07aoia&amp;x=225&amp;y=225|2700x2700|99.3kB|Dell Technologies to Provide I...|https://www.prnewswire.com/news-releases/dell-technologies-to-provide-industrys-fastest-hybrid-cloud-deployment-301010576.html|2|\" src=\"https://msp.c.yimg.jp/yjimage?q=F7yB3vYXyLFmVoM0PVH84zRXStJdiuNL7nuwLhzd9aLsT9GECsm17MMGOE9fH6xYMDgv5chpJ6qVFlrIzku5.UoJ6ZtoTgMkkq8UFVUL8u6WEYCGNgRx2dhUw_j3Wy1TaG9vqwAE8v.X9J_DvBc0&amp;sig=13a07aoia&amp;x=225&amp;y=225\"/>,\n",
              " <img alt=\"「dell technolog...」の画像検索結果\" rel=\"https://futurumresearch.com/wp-content/uploads/2019/09/delltechnologies2018-700x475.jpg|https://msp.c.yimg.jp/yjimage?q=WvhWNEsXyLFD03ctXE0eUKyW8CSsI2bkwW6R07SIcazczKdltau_Z0E.wkVLhn6.KLfGXPdMX_tIPru6ii9xJJ_29ZwuUjnpsq69QpbtypiN3shGS0hNKTRrngnzZoQeX89TMBt22cId6hut_exC&amp;sig=13ajbeo8q&amp;x=273&amp;y=185|700x475|9.9kB|Dell Tech Q2 Performance: A De...|https://futurumresearch.com/dell-tech-q2-performance-a-deeper-look-at-last-weeks-earnings/|3|\" src=\"https://msp.c.yimg.jp/yjimage?q=WvhWNEsXyLFD03ctXE0eUKyW8CSsI2bkwW6R07SIcazczKdltau_Z0E.wkVLhn6.KLfGXPdMX_tIPru6ii9xJJ_29ZwuUjnpsq69QpbtypiN3shGS0hNKTRrngnzZoQeX89TMBt22cId6hut_exC&amp;sig=13ajbeo8q&amp;x=273&amp;y=185\"/>,\n",
              " <img alt=\"「dell technolog...」の画像検索結果\" rel=\"https://images.youracclaim.com/size/680x680/images/6524f9aa-c570-4bba-b382-9d5e46487290/blob.png|https://msp.c.yimg.jp/yjimage?q=dbKaQQkXyLELBKHIlsPFmygNvPrfJObBTzGMDiYjoddgP91caXbB8QSGFib1SqkGnJ9fdVAGqP8u.Q_VbqTkuc474dQuBruCsrXBOkJMUunJgCOP.zEa.MXAFojhDkmFR1ot_tO96LnnPxkjZOWw&amp;sig=13a7f7fg5&amp;x=225&amp;y=225|600x600|65.9kB|Dell Technologies - Badges - A...|https://www.youracclaim.com/organizations/dellemc/badges|4|\" src=\"https://msp.c.yimg.jp/yjimage?q=dbKaQQkXyLELBKHIlsPFmygNvPrfJObBTzGMDiYjoddgP91caXbB8QSGFib1SqkGnJ9fdVAGqP8u.Q_VbqTkuc474dQuBruCsrXBOkJMUunJgCOP.zEa.MXAFojhDkmFR1ot_tO96LnnPxkjZOWw&amp;sig=13a7f7fg5&amp;x=225&amp;y=225\"/>,\n",
              " <img alt=\"「dell technolog...」の画像検索結果\" rel=\"https://boomi.com/wp-content/uploads/Dell_Technologies_logo-2.png|https://msp.c.yimg.jp/yjimage?q=.hOcqUwXyLGR0OvH9ckQlCUObIjK_rMClWl2_q.dtknks94LPLlQiATpwIEuDwHjx7szFNwt5Bn4RMz.Yk0mHmxSVSaPwiKxgJ3gACwihwqNpTT13ZppLGysnNasSwSrwDrhAImMUoL59xQtQj9A&amp;sig=13a908ov1&amp;x=297&amp;y=170|600x343|22.0kB|Dell Technologies Forum - Muni...|https://boomi.com/events/dell-technologies-forum-munich/|5|\" src=\"https://msp.c.yimg.jp/yjimage?q=.hOcqUwXyLGR0OvH9ckQlCUObIjK_rMClWl2_q.dtknks94LPLlQiATpwIEuDwHjx7szFNwt5Bn4RMz.Yk0mHmxSVSaPwiKxgJ3gACwihwqNpTT13ZppLGysnNasSwSrwDrhAImMUoL59xQtQj9A&amp;sig=13a908ov1&amp;x=297&amp;y=170\"/>,\n",
              " <img alt=\"「dell technolog...」の画像検索結果\" rel=\"https://i2.wp.com/3.bp.blogspot.com/-ykIa5d0zqTE/WbJu73xgxwI/AAAAAAAAhmQ/qJz2wN3b6LQOc8DtykbW537jdf-1b4vjwCLcBGAs/s1600/dell%2Btechnologies.jpg?ssl=1|https://msp.c.yimg.jp/yjimage?q=4Tqdb_8XyLH9QB..2C0fcjQ19SbVaaaM2xZH6Qd.Awmp4FqUoPYUwyicvDnSF2_Ig9yRLWh6scQI_hTWFCYR1eJahD37TjN4.vwk4WwatmpiS.HCDPY5XIsTIUeLlPLv3TpOIynpIBDfvUzUshuQ&amp;sig=13a6plmq4&amp;x=295&amp;y=171|1346x779|209.7kB|Dell Technologies Celebrates B...|https://thetechrevolutionist.com/2017/09/dell-technologies-celebrates-banner.html|6|\" src=\"https://msp.c.yimg.jp/yjimage?q=4Tqdb_8XyLH9QB..2C0fcjQ19SbVaaaM2xZH6Qd.Awmp4FqUoPYUwyicvDnSF2_Ig9yRLWh6scQI_hTWFCYR1eJahD37TjN4.vwk4WwatmpiS.HCDPY5XIsTIUeLlPLv3TpOIynpIBDfvUzUshuQ&amp;sig=13a6plmq4&amp;x=295&amp;y=171\"/>,\n",
              " <img alt=\"「dell technolog...」の画像検索結果\" rel=\"https://www.crn.com/resources/0250-0c6a417990bc-055ece527d86-1000/dell-technologies-stage.jpg|https://msp.c.yimg.jp/yjimage?q=4xJmKv0XyLFfvWh0NLrmccL_Dmu8OZ_8M97YAv4k2HNS1eSSKTvItjg8YGhEImVGLlvvuMtz6Ua8cCgDrAX_9IVOc9iokInYB5Qmt7fvj73ld35L.gsSHHX77dFUS.1ODzke7ffAwfB6GT6e1nY0&amp;sig=13ai89im3&amp;x=259&amp;y=194|610x457|24.6kB|New Dell Technologies Partner ...|https://www.crn.com/slide-shows/internet-of-things/new-dell-technologies-partner-program-7-things-you-need-to-know|7|\" src=\"https://msp.c.yimg.jp/yjimage?q=4xJmKv0XyLFfvWh0NLrmccL_Dmu8OZ_8M97YAv4k2HNS1eSSKTvItjg8YGhEImVGLlvvuMtz6Ua8cCgDrAX_9IVOc9iokInYB5Qmt7fvj73ld35L.gsSHHX77dFUS.1ODzke7ffAwfB6GT6e1nY0&amp;sig=13ai89im3&amp;x=259&amp;y=194\"/>,\n",
              " <img alt=\"「dell technolog...」の画像検索結果\" rel=\"https://www.boldbusiness.com/wp-content/uploads/2019/01/Feature-Image-1.jpg|https://msp.c.yimg.jp/yjimage?q=6UIIp_kXyLFmZdEK6Uta0Ruuyt188jqDI1QSJF3AEWBd6ayHXvgvnRq7NaCeA8JycsnYUivZwRIr_pDIrlQ1q3UE0p2v.Frp2ArJfNLFTPycuEZA_rKqyXKfumcE2WPkfd2Z8y2qewv3fQZzCJxQBiE-&amp;sig=13cfslg08&amp;x=300&amp;y=141|1900x900|507.1kB|Dell Technologies Inc: Reinven...|https://www.boldbusiness.com/digital/reinventing-dell-technologies-technology-behemoth/|8|\" src=\"https://msp.c.yimg.jp/yjimage?q=6UIIp_kXyLFmZdEK6Uta0Ruuyt188jqDI1QSJF3AEWBd6ayHXvgvnRq7NaCeA8JycsnYUivZwRIr_pDIrlQ1q3UE0p2v.Frp2ArJfNLFTPycuEZA_rKqyXKfumcE2WPkfd2Z8y2qewv3fQZzCJxQBiE-&amp;sig=13cfslg08&amp;x=300&amp;y=141\"/>,\n",
              " <img alt=\"「dell technolog...」の画像検索結果\" rel=\"https://www.dqindia.com/wp-content/uploads/2019/12/Dell-Technologies_opt-840x378.jpg|https://msp.c.yimg.jp/yjimage?q=ByufhboXyLEedCWmROyPB2oV4QNsjwmzqXCt2MrMCuAImhrruJYNCdzzSfQjGKs.BdnNDE7V5OVDZZe1OORHllGhjvOhQvYdyPhKGnRu7Btg4us0846.Rl5KFrO2.6WF59a0fqMxHx5Op.yQr6ak&amp;sig=13a7mk5gd&amp;x=300&amp;y=134|840x378|61.1kB|Dell Technologies: Year 2019 a...|https://www.dqindia.com/dell-technologies-year-2019-at-a-glimpse/|9|\" src=\"https://msp.c.yimg.jp/yjimage?q=ByufhboXyLEedCWmROyPB2oV4QNsjwmzqXCt2MrMCuAImhrruJYNCdzzSfQjGKs.BdnNDE7V5OVDZZe1OORHllGhjvOhQvYdyPhKGnRu7Btg4us0846.Rl5KFrO2.6WF59a0fqMxHx5Op.yQr6ak&amp;sig=13a7mk5gd&amp;x=300&amp;y=134\"/>,\n",
              " <img alt=\"「dell technolog...」の画像検索結果\" rel=\"https://lookaside.fbsbx.com/lookaside/crawler/media/?media_id=238965712097|https://msp.c.yimg.jp/yjimage?q=oLxmgbcXyLEFnmtgtSUs5xvoCwfaeM6v_z6yJ5yajdTt9v76JZMFNrYcU3unMNZvs8Y5qsNA282hIoFawJqiwFaQf.QpG.a3QtzFNL_XhYkqcFtomPm5u48nbzaPVXpTUKIpAMPKvuPOnFARdUXf&amp;sig=13aa4f1nl&amp;x=225&amp;y=225|960x960|22.4kB|Dell Technologies - Home ｜ Fac...|https://www.facebook.com/delltechnologies/|10|\" src=\"https://msp.c.yimg.jp/yjimage?q=oLxmgbcXyLEFnmtgtSUs5xvoCwfaeM6v_z6yJ5yajdTt9v76JZMFNrYcU3unMNZvs8Y5qsNA282hIoFawJqiwFaQf.QpG.a3QtzFNL_XhYkqcFtomPm5u48nbzaPVXpTUKIpAMPKvuPOnFARdUXf&amp;sig=13aa4f1nl&amp;x=225&amp;y=225\"/>,\n",
              " <img alt=\"「dell technolog...」の画像検索結果\" rel=\"https://sector.ca/wp-content/uploads/dell_emc.png|https://msp.c.yimg.jp/yjimage?q=JDhqcqoXyLFdR4.bXq7JsKNtqbyXNuo7WOtuBmpkSg.Zw2PM828kj3eyzO36s33OBQVsXmqrckU0GhxBQ3KLt_bk0u0pPuCYf0iFhaI9K0IN7CSO9jKebFHenAJrLZ17S72RWYqi.h9RFn9UvPFScJc-&amp;sig=13cs4nmnm&amp;x=244&amp;y=207|356x302|10.1kB|Dell Technologies « SecTor 202...|https://sector.ca/exhibitors/dell-emc/|11|\" src=\"https://msp.c.yimg.jp/yjimage?q=JDhqcqoXyLFdR4.bXq7JsKNtqbyXNuo7WOtuBmpkSg.Zw2PM828kj3eyzO36s33OBQVsXmqrckU0GhxBQ3KLt_bk0u0pPuCYf0iFhaI9K0IN7CSO9jKebFHenAJrLZ17S72RWYqi.h9RFn9UvPFScJc-&amp;sig=13cs4nmnm&amp;x=244&amp;y=207\"/>,\n",
              " <img alt=\"「dell technolog...」の画像検索結果\" rel=\"https://2could15utpo24a58b39uuuu-wpengine.netdna-ssl.com/wp-content/uploads/2020/02/DellTech_Logo_Prm_rgb.png|https://msp.c.yimg.jp/yjimage?q=H_jX27oXyLFJ5cNWu9v2.OwWFn0Z5FXvwRty8Vh8rWMocILW5yL0V3N.GGKVzatg38t6BIpgDAyTU7I_uuKc54zuZpqFhpXnezYsF.Rwq2rQGEmmTUD3FdCBlH64awZ_4gEYVNrxNNLSp0VFqQpi&amp;sig=13a5i29ql&amp;x=300&amp;y=38|4238x550|89.3kB|Dell Technologies Virtual Rack...|https://esgvr.dell.com/|12|\" src=\"https://msp.c.yimg.jp/yjimage?q=H_jX27oXyLFJ5cNWu9v2.OwWFn0Z5FXvwRty8Vh8rWMocILW5yL0V3N.GGKVzatg38t6BIpgDAyTU7I_uuKc54zuZpqFhpXnezYsF.Rwq2rQGEmmTUD3FdCBlH64awZ_4gEYVNrxNNLSp0VFqQpi&amp;sig=13a5i29ql&amp;x=300&amp;y=38\"/>,\n",
              " <img alt=\"「dell technolog...」の画像検索結果\" rel=\"https://www.eweek.com/imagesvr_ez/b2bezp/2019/05/Dell.Tech.World.JPG?alias=article_hero|https://msp.c.yimg.jp/yjimage?q=z._xhvAXyLE9KihKFBnLxjHkjYIQ282JuuV.DuCtrCylB.DuxSjDHYnSvN4rx46gFTVOquZc0nYKnnf4b7XQVabnHCAuZIIoEKa39ThJQYS6orVtsMzOp9oKS4Yb8zyS2EXOtut3no8YfVp.xZ8YGTM-&amp;sig=13cej9cd4&amp;x=275&amp;y=183|720x480|41.9kB|Understanding the Transformati...|https://www.eweek.com/it-management/understanding-transformation-dell-technologies|13|\" src=\"https://msp.c.yimg.jp/yjimage?q=z._xhvAXyLE9KihKFBnLxjHkjYIQ282JuuV.DuCtrCylB.DuxSjDHYnSvN4rx46gFTVOquZc0nYKnnf4b7XQVabnHCAuZIIoEKa39ThJQYS6orVtsMzOp9oKS4Yb8zyS2EXOtut3no8YfVp.xZ8YGTM-&amp;sig=13cej9cd4&amp;x=275&amp;y=183\"/>,\n",
              " <img alt=\"「dell technolog...」の画像検索結果\" rel=\"https://www.dellemc.com/content/dam/digitalassets/images/partner-portal/dell-technologies.JPG/jcr:content/renditions/xsmall|https://msp.c.yimg.jp/yjimage?q=ItT.tU4XyLE6kUDwzzDjyAkvIn685DaDhEOJ_Vh7yXkUc8OSJxSnMkbA_G8sZ_rbfwNBd_7EEBkvnvwQB.vFYGra1aV6Mpubdu10H1lJ2xCG6WBxaUj6nSov4wZwnt8FLMWD75HsNSZceY6ZANh2dYU-&amp;sig=13c5qthag&amp;x=300&amp;y=94|638x202|62.3kB|Partner Program - Dell Technol...|https://www.dellemc.com/partner/en-us/partner/partner-programs.htm|14|\" src=\"https://msp.c.yimg.jp/yjimage?q=ItT.tU4XyLE6kUDwzzDjyAkvIn685DaDhEOJ_Vh7yXkUc8OSJxSnMkbA_G8sZ_rbfwNBd_7EEBkvnvwQB.vFYGra1aV6Mpubdu10H1lJ2xCG6WBxaUj6nSov4wZwnt8FLMWD75HsNSZceY6ZANh2dYU-&amp;sig=13c5qthag&amp;x=300&amp;y=94\"/>,\n",
              " <img alt=\"「dell technolog...」の画像検索結果\" rel=\"https://blog.dell.com/uploads/2017/05/dell-tech-burton_1000x500.jpg|https://msp.c.yimg.jp/yjimage?q=dDH352UXyLED_.MrvGH9Vzd43AS8bA1LOnvlY4cr_Yw7mfcl11J.mcgwFCfDadavZcKm018W2M7ggpad74S0Jdxyu48X9MOq9Y2ktHulz8N7u1EFCbmVOHsUgdETtZYRF_.ELqteMmX_cB1TfJJZBxk-&amp;sig=13c8b0i8r&amp;x=300&amp;y=150|1000x500|74.5kB|Dell Technologies Capital Brin...|https://blog.dell.com/en-us/dell-technologies-capital-brings-innovative-technology-customers/|15|\" src=\"https://msp.c.yimg.jp/yjimage?q=dDH352UXyLED_.MrvGH9Vzd43AS8bA1LOnvlY4cr_Yw7mfcl11J.mcgwFCfDadavZcKm018W2M7ggpad74S0Jdxyu48X9MOq9Y2ktHulz8N7u1EFCbmVOHsUgdETtZYRF_.ELqteMmX_cB1TfJJZBxk-&amp;sig=13c8b0i8r&amp;x=300&amp;y=150\"/>,\n",
              " <img alt=\"「dell technolog...」の画像検索結果\" rel=\"https://irishtechnews.ie/wp-content/uploads/2019/03/Dell.png|https://msp.c.yimg.jp/yjimage?q=GY4BtMIXyLHFGko8.bd7.E34QjnBqS9ikaDMOqICHx3lrSNIm6mFijNkgKyyqd7quGCr_dan6EGIVJqTH93GITf1EXS6lhTQxX7NwQG2pXE7N2wHb3KypvXVhfwDV_NKqEkjUEQJ_fKx2BG6KThzpzw-&amp;sig=13cuef2ur&amp;x=279&amp;y=181|1000x650|20.6kB|Dell Technologies Simplifies C...|https://irishtechnews.ie/dell-technologies-simplifies-customers-path-to-innovation-with-ai-and-high-performance-computing/|16|\" src=\"https://msp.c.yimg.jp/yjimage?q=GY4BtMIXyLHFGko8.bd7.E34QjnBqS9ikaDMOqICHx3lrSNIm6mFijNkgKyyqd7quGCr_dan6EGIVJqTH93GITf1EXS6lhTQxX7NwQG2pXE7N2wHb3KypvXVhfwDV_NKqEkjUEQJ_fKx2BG6KThzpzw-&amp;sig=13cuef2ur&amp;x=279&amp;y=181\"/>,\n",
              " <img alt=\"「dell technolog...」の画像検索結果\" rel=\"https://thumbor.forbes.com/thumbor/711x399/https://blogs-images.forbes.com/moorinsights/files/2019/06/DTW19_socshare-1200x675.jpg?width=960|https://msp.c.yimg.jp/yjimage?q=FrY07BMXyLFwUkPEmgRn_sclyzfhOtpgySMNOmmzZziJyisWiyJ0ho67WPPyqjtQ41co22ctc7yzsEEPYP992ab5k4ghaZd6qnvtujCCrwWW.0AluGIvh3gg6SqqqwE4JeAcgQLDLmeL3chPWL33En8-&amp;sig=13c87logq&amp;x=300&amp;y=168|711x399|70.8kB|Aligning Storage Vision And St...|https://www.forbes.com/sites/moorinsights/2019/06/14/aligning-storage-vision-and-storage-products-at-dell-technologies-world/|17|\" src=\"https://msp.c.yimg.jp/yjimage?q=FrY07BMXyLFwUkPEmgRn_sclyzfhOtpgySMNOmmzZziJyisWiyJ0ho67WPPyqjtQ41co22ctc7yzsEEPYP992ab5k4ghaZd6qnvtujCCrwWW.0AluGIvh3gg6SqqqwE4JeAcgQLDLmeL3chPWL33En8-&amp;sig=13c87logq&amp;x=300&amp;y=168\"/>,\n",
              " <img alt=\"「dell technolog...」の画像検索結果\" rel=\"https://www.aithority.com/wp-content/uploads/2019/04/Dell-Technologies-Cloud-Accelerates-Customers-Multi-Cloud-Journey-.jpg|https://msp.c.yimg.jp/yjimage?q=FiPw9SEXyLFcizgQvjLLAaA9qXVcxYPIJLO3.GmLulDq_3qZiASF8OjPI4fEC5DgfGY4RclNg7._iqq20Fy8AUEFhhydsGQHkfRwapZu7klOk9W655OSEgEdJCxzYYGdh4gpc_.3bazdRiU9zp5cfx8-&amp;sig=13c9k413c&amp;x=300&amp;y=168|1600x900|234.2kB|Dell Technologies to Provide I...|https://www.aithority.com/computing/dell-technologies-to-provide-industrys-fastest-hybrid-cloud-deployment/|18|\" src=\"https://msp.c.yimg.jp/yjimage?q=FiPw9SEXyLFcizgQvjLLAaA9qXVcxYPIJLO3.GmLulDq_3qZiASF8OjPI4fEC5DgfGY4RclNg7._iqq20Fy8AUEFhhydsGQHkfRwapZu7klOk9W655OSEgEdJCxzYYGdh4gpc_.3bazdRiU9zp5cfx8-&amp;sig=13c9k413c&amp;x=300&amp;y=168\"/>,\n",
              " <img alt=\"「dell technolog...」の画像検索結果\" rel=\"https://www.crn.com/resources/0258-0e55a63f7ca1-34404f4ba89e-1000/dell-technologies-stage.jpg|https://msp.c.yimg.jp/yjimage?q=WQjUbkIXyLGGtSDofd33Xxc4xHHqL1C.5gETskxP5bTOF_oj2loyiNzqX5VfsUmHkhyUlvawWcyap9A1XDmppzvzyWkleJIaCPXqorqei2GPxYf4SugrBJeUPkJnEzBQYCCKWSbUCk7Vtt2INwan&amp;sig=13al574o6&amp;x=260&amp;y=194|609x456|51.9kB|The 10 Biggest Dell Technologi...|https://www.crn.com/slide-shows/data-center/the-10-biggest-dell-technologies-news-stories-in-2019|19|\" src=\"https://msp.c.yimg.jp/yjimage?q=WQjUbkIXyLGGtSDofd33Xxc4xHHqL1C.5gETskxP5bTOF_oj2loyiNzqX5VfsUmHkhyUlvawWcyap9A1XDmppzvzyWkleJIaCPXqorqei2GPxYf4SugrBJeUPkJnEzBQYCCKWSbUCk7Vtt2INwan&amp;sig=13al574o6&amp;x=260&amp;y=194\"/>,\n",
              " <img alt=\"「dell technolog...」の画像検索結果\" rel=\"https://biztechmagazine.com/sites/biztechmagazine.com/files/styles/cdw_hero/public/articles/201905/BT_5G.jpg?itok=j0PInjym|https://msp.c.yimg.jp/yjimage?q=G089EAIXyLE5rrxYc9rs66gFpLsHJfgThSDGODL45MMeF_vqeDZIFgOuq4Ff0FweX8cqdEH7Pw4_d_MQUfi5QeSma8m6CxWOHKnPtg6pitXkQFXT8ue5.IEf39GtZQmPRzw8Pi.AEEuFkYt5.cLi&amp;sig=13avekguh&amp;x=300&amp;y=103|1440x500|156.9kB|Dell Technologies World 2019: ...|https://biztechmagazine.com/article/2019/05/dell-technologies-world-2019-what-will-5g-really-mean-businesses-and-consumers|20|\" src=\"https://msp.c.yimg.jp/yjimage?q=G089EAIXyLE5rrxYc9rs66gFpLsHJfgThSDGODL45MMeF_vqeDZIFgOuq4Ff0FweX8cqdEH7Pw4_d_MQUfi5QeSma8m6CxWOHKnPtg6pitXkQFXT8ue5.IEf39GtZQmPRzw8Pi.AEEuFkYt5.cLi&amp;sig=13avekguh&amp;x=300&amp;y=103\"/>]"
            ]
          },
          "metadata": {
            "tags": []
          },
          "execution_count": 3
        }
      ]
    },
    {
      "cell_type": "code",
      "metadata": {
        "id": "BO9HS6yZdoNu",
        "colab_type": "code",
        "colab": {}
      },
      "source": [
        "img_tags = soup.find_all(\"img\", attrs={\"alt\": \"「dell technolog...」の画像検索結果\"})"
      ],
      "execution_count": null,
      "outputs": []
    },
    {
      "cell_type": "code",
      "metadata": {
        "id": "zZfE8bHwdtVb",
        "colab_type": "code",
        "colab": {
          "base_uri": "https://localhost:8080/",
          "height": 383
        },
        "outputId": "5bc88da3-9279-4219-ccf4-dc47b377d745"
      },
      "source": [
        "img_urls = []\n",
        "\n",
        "for img_tag in img_tags:\n",
        "  url = img_tag.get(\"src\")\n",
        "\n",
        "  img_urls.append(url)\n",
        "  print(url)"
      ],
      "execution_count": null,
      "outputs": [
        {
          "output_type": "stream",
          "text": [
            "https://msp.c.yimg.jp/yjimage?q=0Mx6uMIXyLES1fvyohnbF.cZMegxSS1F_tRT23oBYA40hi9VgjD5D3tbSWv43ZiCA8irgqfwymsCUMjmdcrGQO8CWgyXCFF7.A..W1fAKUcN5r7LJUj16bbqEhOwpfwq781US9Sp8.81okJlHUgR&sig=13artnn12&x=200&y=200\n",
            "https://msp.c.yimg.jp/yjimage?q=F7yB3vYXyLFmVoM0PVH84zRXStJdiuNL7nuwLhzd9aLsT9GECsm17MMGOE9fH6xYMDgv5chpJ6qVFlrIzku5.UoJ6ZtoTgMkkq8UFVUL8u6WEYCGNgRx2dhUw_j3Wy1TaG9vqwAE8v.X9J_DvBc0&sig=13a07aoia&x=225&y=225\n",
            "https://msp.c.yimg.jp/yjimage?q=WvhWNEsXyLFD03ctXE0eUKyW8CSsI2bkwW6R07SIcazczKdltau_Z0E.wkVLhn6.KLfGXPdMX_tIPru6ii9xJJ_29ZwuUjnpsq69QpbtypiN3shGS0hNKTRrngnzZoQeX89TMBt22cId6hut_exC&sig=13ajbeo8q&x=273&y=185\n",
            "https://msp.c.yimg.jp/yjimage?q=dbKaQQkXyLELBKHIlsPFmygNvPrfJObBTzGMDiYjoddgP91caXbB8QSGFib1SqkGnJ9fdVAGqP8u.Q_VbqTkuc474dQuBruCsrXBOkJMUunJgCOP.zEa.MXAFojhDkmFR1ot_tO96LnnPxkjZOWw&sig=13a7f7fg5&x=225&y=225\n",
            "https://msp.c.yimg.jp/yjimage?q=.hOcqUwXyLGR0OvH9ckQlCUObIjK_rMClWl2_q.dtknks94LPLlQiATpwIEuDwHjx7szFNwt5Bn4RMz.Yk0mHmxSVSaPwiKxgJ3gACwihwqNpTT13ZppLGysnNasSwSrwDrhAImMUoL59xQtQj9A&sig=13a908ov1&x=297&y=170\n",
            "https://msp.c.yimg.jp/yjimage?q=4Tqdb_8XyLH9QB..2C0fcjQ19SbVaaaM2xZH6Qd.Awmp4FqUoPYUwyicvDnSF2_Ig9yRLWh6scQI_hTWFCYR1eJahD37TjN4.vwk4WwatmpiS.HCDPY5XIsTIUeLlPLv3TpOIynpIBDfvUzUshuQ&sig=13a6plmq4&x=295&y=171\n",
            "https://msp.c.yimg.jp/yjimage?q=4xJmKv0XyLFfvWh0NLrmccL_Dmu8OZ_8M97YAv4k2HNS1eSSKTvItjg8YGhEImVGLlvvuMtz6Ua8cCgDrAX_9IVOc9iokInYB5Qmt7fvj73ld35L.gsSHHX77dFUS.1ODzke7ffAwfB6GT6e1nY0&sig=13ai89im3&x=259&y=194\n",
            "https://msp.c.yimg.jp/yjimage?q=6UIIp_kXyLFmZdEK6Uta0Ruuyt188jqDI1QSJF3AEWBd6ayHXvgvnRq7NaCeA8JycsnYUivZwRIr_pDIrlQ1q3UE0p2v.Frp2ArJfNLFTPycuEZA_rKqyXKfumcE2WPkfd2Z8y2qewv3fQZzCJxQBiE-&sig=13cfslg08&x=300&y=141\n",
            "https://msp.c.yimg.jp/yjimage?q=ByufhboXyLEedCWmROyPB2oV4QNsjwmzqXCt2MrMCuAImhrruJYNCdzzSfQjGKs.BdnNDE7V5OVDZZe1OORHllGhjvOhQvYdyPhKGnRu7Btg4us0846.Rl5KFrO2.6WF59a0fqMxHx5Op.yQr6ak&sig=13a7mk5gd&x=300&y=134\n",
            "https://msp.c.yimg.jp/yjimage?q=oLxmgbcXyLEFnmtgtSUs5xvoCwfaeM6v_z6yJ5yajdTt9v76JZMFNrYcU3unMNZvs8Y5qsNA282hIoFawJqiwFaQf.QpG.a3QtzFNL_XhYkqcFtomPm5u48nbzaPVXpTUKIpAMPKvuPOnFARdUXf&sig=13aa4f1nl&x=225&y=225\n",
            "https://msp.c.yimg.jp/yjimage?q=JDhqcqoXyLFdR4.bXq7JsKNtqbyXNuo7WOtuBmpkSg.Zw2PM828kj3eyzO36s33OBQVsXmqrckU0GhxBQ3KLt_bk0u0pPuCYf0iFhaI9K0IN7CSO9jKebFHenAJrLZ17S72RWYqi.h9RFn9UvPFScJc-&sig=13cs4nmnm&x=244&y=207\n",
            "https://msp.c.yimg.jp/yjimage?q=H_jX27oXyLFJ5cNWu9v2.OwWFn0Z5FXvwRty8Vh8rWMocILW5yL0V3N.GGKVzatg38t6BIpgDAyTU7I_uuKc54zuZpqFhpXnezYsF.Rwq2rQGEmmTUD3FdCBlH64awZ_4gEYVNrxNNLSp0VFqQpi&sig=13a5i29ql&x=300&y=38\n",
            "https://msp.c.yimg.jp/yjimage?q=z._xhvAXyLE9KihKFBnLxjHkjYIQ282JuuV.DuCtrCylB.DuxSjDHYnSvN4rx46gFTVOquZc0nYKnnf4b7XQVabnHCAuZIIoEKa39ThJQYS6orVtsMzOp9oKS4Yb8zyS2EXOtut3no8YfVp.xZ8YGTM-&sig=13cej9cd4&x=275&y=183\n",
            "https://msp.c.yimg.jp/yjimage?q=ItT.tU4XyLE6kUDwzzDjyAkvIn685DaDhEOJ_Vh7yXkUc8OSJxSnMkbA_G8sZ_rbfwNBd_7EEBkvnvwQB.vFYGra1aV6Mpubdu10H1lJ2xCG6WBxaUj6nSov4wZwnt8FLMWD75HsNSZceY6ZANh2dYU-&sig=13c5qthag&x=300&y=94\n",
            "https://msp.c.yimg.jp/yjimage?q=dDH352UXyLED_.MrvGH9Vzd43AS8bA1LOnvlY4cr_Yw7mfcl11J.mcgwFCfDadavZcKm018W2M7ggpad74S0Jdxyu48X9MOq9Y2ktHulz8N7u1EFCbmVOHsUgdETtZYRF_.ELqteMmX_cB1TfJJZBxk-&sig=13c8b0i8r&x=300&y=150\n",
            "https://msp.c.yimg.jp/yjimage?q=GY4BtMIXyLHFGko8.bd7.E34QjnBqS9ikaDMOqICHx3lrSNIm6mFijNkgKyyqd7quGCr_dan6EGIVJqTH93GITf1EXS6lhTQxX7NwQG2pXE7N2wHb3KypvXVhfwDV_NKqEkjUEQJ_fKx2BG6KThzpzw-&sig=13cuef2ur&x=279&y=181\n",
            "https://msp.c.yimg.jp/yjimage?q=FrY07BMXyLFwUkPEmgRn_sclyzfhOtpgySMNOmmzZziJyisWiyJ0ho67WPPyqjtQ41co22ctc7yzsEEPYP992ab5k4ghaZd6qnvtujCCrwWW.0AluGIvh3gg6SqqqwE4JeAcgQLDLmeL3chPWL33En8-&sig=13c87logq&x=300&y=168\n",
            "https://msp.c.yimg.jp/yjimage?q=FiPw9SEXyLFcizgQvjLLAaA9qXVcxYPIJLO3.GmLulDq_3qZiASF8OjPI4fEC5DgfGY4RclNg7._iqq20Fy8AUEFhhydsGQHkfRwapZu7klOk9W655OSEgEdJCxzYYGdh4gpc_.3bazdRiU9zp5cfx8-&sig=13c9k413c&x=300&y=168\n",
            "https://msp.c.yimg.jp/yjimage?q=WQjUbkIXyLGGtSDofd33Xxc4xHHqL1C.5gETskxP5bTOF_oj2loyiNzqX5VfsUmHkhyUlvawWcyap9A1XDmppzvzyWkleJIaCPXqorqei2GPxYf4SugrBJeUPkJnEzBQYCCKWSbUCk7Vtt2INwan&sig=13al574o6&x=260&y=194\n",
            "https://msp.c.yimg.jp/yjimage?q=G089EAIXyLE5rrxYc9rs66gFpLsHJfgThSDGODL45MMeF_vqeDZIFgOuq4Ff0FweX8cqdEH7Pw4_d_MQUfi5QeSma8m6CxWOHKnPtg6pitXkQFXT8ue5.IEf39GtZQmPRzw8Pi.AEEuFkYt5.cLi&sig=13avekguh&x=300&y=103\n"
          ],
          "name": "stdout"
        }
      ]
    },
    {
      "cell_type": "code",
      "metadata": {
        "id": "M1p4uemKdvhB",
        "colab_type": "code",
        "colab": {}
      },
      "source": [
        "def download_image(url, file_path):\n",
        "  r = requests.get(url, stream=True)\n",
        "\n",
        "  if r.status_code == 200:\n",
        "    with open(file_path, \"wb\") as f:\n",
        "      f.write(r.content)"
      ],
      "execution_count": null,
      "outputs": []
    },
    {
      "cell_type": "code",
      "metadata": {
        "id": "K2rp8lmodyUN",
        "colab_type": "code",
        "colab": {
          "base_uri": "https://localhost:8080/",
          "height": 124
        },
        "outputId": "a670803e-460f-4dfe-e367-127e2a7e7558"
      },
      "source": [
        "from google.colab import drive\n",
        "drive.mount(\"./gdrive\")"
      ],
      "execution_count": null,
      "outputs": [
        {
          "output_type": "stream",
          "text": [
            "Go to this URL in a browser: https://accounts.google.com/o/oauth2/auth?client_id=947318989803-6bn6qk8qdgf4n4g3pfee6491hc0brc4i.apps.googleusercontent.com&redirect_uri=urn%3aietf%3awg%3aoauth%3a2.0%3aoob&response_type=code&scope=email%20https%3a%2f%2fwww.googleapis.com%2fauth%2fdocs.test%20https%3a%2f%2fwww.googleapis.com%2fauth%2fdrive%20https%3a%2f%2fwww.googleapis.com%2fauth%2fdrive.photos.readonly%20https%3a%2f%2fwww.googleapis.com%2fauth%2fpeopleapi.readonly\n",
            "\n",
            "Enter your authorization code:\n",
            "··········\n",
            "Mounted at ./gdrive\n"
          ],
          "name": "stdout"
        }
      ]
    },
    {
      "cell_type": "code",
      "metadata": {
        "id": "8zdXCN4bd0Ar",
        "colab_type": "code",
        "colab": {}
      },
      "source": [
        "def save_file(file_path):\n",
        "  upload_file = drive.CreateFile()\n",
        "  upload_file.SetContentFile(file_path)\n",
        "  upload_file.Upload()"
      ],
      "execution_count": null,
      "outputs": []
    },
    {
      "cell_type": "code",
      "metadata": {
        "id": "lvdUgksZd9mL",
        "colab_type": "code",
        "colab": {
          "base_uri": "https://localhost:8080/",
          "height": 708
        },
        "outputId": "a9ac011f-53fa-45b2-f8d9-2c577d7d30e7"
      },
      "source": [
        "import os\n",
        "\n",
        "google_drive_save_dir = \"./gdrive/My Drive/Colab Notebooks/logo/dell-technologies\"\n",
        "\n",
        "for index, url in enumerate(img_urls):\n",
        "  file_name = \"{}.jpg\".format(index)\n",
        "  \n",
        "  print(file_name)\n",
        "  image_path  = os.path.join(google_drive_save_dir, file_name)\n",
        "  print(image_path)\n",
        "\n",
        "  #download_image(url=url, file_path=image_path)"
      ],
      "execution_count": null,
      "outputs": [
        {
          "output_type": "stream",
          "text": [
            "0.jpg\n",
            "./gdrive/My Drive/Colab Notebooks/logo/dell-technologies/0.jpg\n",
            "1.jpg\n",
            "./gdrive/My Drive/Colab Notebooks/logo/dell-technologies/1.jpg\n",
            "2.jpg\n",
            "./gdrive/My Drive/Colab Notebooks/logo/dell-technologies/2.jpg\n",
            "3.jpg\n",
            "./gdrive/My Drive/Colab Notebooks/logo/dell-technologies/3.jpg\n",
            "4.jpg\n",
            "./gdrive/My Drive/Colab Notebooks/logo/dell-technologies/4.jpg\n",
            "5.jpg\n",
            "./gdrive/My Drive/Colab Notebooks/logo/dell-technologies/5.jpg\n",
            "6.jpg\n",
            "./gdrive/My Drive/Colab Notebooks/logo/dell-technologies/6.jpg\n",
            "7.jpg\n",
            "./gdrive/My Drive/Colab Notebooks/logo/dell-technologies/7.jpg\n",
            "8.jpg\n",
            "./gdrive/My Drive/Colab Notebooks/logo/dell-technologies/8.jpg\n",
            "9.jpg\n",
            "./gdrive/My Drive/Colab Notebooks/logo/dell-technologies/9.jpg\n",
            "10.jpg\n",
            "./gdrive/My Drive/Colab Notebooks/logo/dell-technologies/10.jpg\n",
            "11.jpg\n",
            "./gdrive/My Drive/Colab Notebooks/logo/dell-technologies/11.jpg\n",
            "12.jpg\n",
            "./gdrive/My Drive/Colab Notebooks/logo/dell-technologies/12.jpg\n",
            "13.jpg\n",
            "./gdrive/My Drive/Colab Notebooks/logo/dell-technologies/13.jpg\n",
            "14.jpg\n",
            "./gdrive/My Drive/Colab Notebooks/logo/dell-technologies/14.jpg\n",
            "15.jpg\n",
            "./gdrive/My Drive/Colab Notebooks/logo/dell-technologies/15.jpg\n",
            "16.jpg\n",
            "./gdrive/My Drive/Colab Notebooks/logo/dell-technologies/16.jpg\n",
            "17.jpg\n",
            "./gdrive/My Drive/Colab Notebooks/logo/dell-technologies/17.jpg\n",
            "18.jpg\n",
            "./gdrive/My Drive/Colab Notebooks/logo/dell-technologies/18.jpg\n",
            "19.jpg\n",
            "./gdrive/My Drive/Colab Notebooks/logo/dell-technologies/19.jpg\n"
          ],
          "name": "stdout"
        }
      ]
    },
    {
      "cell_type": "code",
      "metadata": {
        "id": "XyWZcCvHeD6B",
        "colab_type": "code",
        "colab": {}
      },
      "source": [
        "def get_image_urls(page_url):\n",
        "  img_urls = []\n",
        "\n",
        "  r = requests.get(page_url)\n",
        "\n",
        "  soup = BeautifulSoup(r.text, features=\"html.parser\")\n",
        "\n",
        "  img_tags = soup.find_all(\"img\", attrs={\"alt\": \"「dell technolog...」の画像検索結果\"})\n",
        "\n",
        "  for img_tag in img_tags:\n",
        "    url = img_tag.get(\"src\")\n",
        "\n",
        "    img_urls.append(url)\n",
        "  return img_urls"
      ],
      "execution_count": null,
      "outputs": []
    },
    {
      "cell_type": "code",
      "metadata": {
        "id": "WOgHHFvFeLtn",
        "colab_type": "code",
        "colab": {}
      },
      "source": [
        "def loop_download_image(page_index, img_urls):\n",
        "  for image_index, url in enumerate(img_urls):\n",
        "    file_name = \"{}_{}.jpg\".format(page_index, image_index)\n",
        "\n",
        "    image_path = os.path.join(google_drive_save_dir, file_name)\n",
        "    print(image_path)\n",
        "\n",
        "    download_image(url=url, file_path=image_path)"
      ],
      "execution_count": null,
      "outputs": []
    },
    {
      "cell_type": "code",
      "metadata": {
        "id": "yvHleDoVeNxl",
        "colab_type": "code",
        "colab": {
          "base_uri": "https://localhost:8080/",
          "height": 1000
        },
        "outputId": "5370fc58-8f0c-4192-ff05-d05dea5b679b"
      },
      "source": [
        "for index, n_page in enumerate(range(1, 100, 20)):\n",
        "  print(n_page)\n",
        "  page_url = \"https://search.yahoo.co.jp/image/search?p=dell+technologies&oq=dell+technol&ei=UTF-8&b={}\".format(n_page)\n",
        "\n",
        "  img_urls = get_image_urls(page_url)\n",
        "\n",
        "  loop_download_image(page_index=index+1, img_urls=img_urls)"
      ],
      "execution_count": null,
      "outputs": [
        {
          "output_type": "stream",
          "text": [
            "1\n",
            "./gdrive/My Drive/Colab Notebooks/logo/dell-technologies/1_0.jpg\n",
            "./gdrive/My Drive/Colab Notebooks/logo/dell-technologies/1_1.jpg\n",
            "./gdrive/My Drive/Colab Notebooks/logo/dell-technologies/1_2.jpg\n",
            "./gdrive/My Drive/Colab Notebooks/logo/dell-technologies/1_3.jpg\n",
            "./gdrive/My Drive/Colab Notebooks/logo/dell-technologies/1_4.jpg\n",
            "./gdrive/My Drive/Colab Notebooks/logo/dell-technologies/1_5.jpg\n",
            "./gdrive/My Drive/Colab Notebooks/logo/dell-technologies/1_6.jpg\n",
            "./gdrive/My Drive/Colab Notebooks/logo/dell-technologies/1_7.jpg\n",
            "./gdrive/My Drive/Colab Notebooks/logo/dell-technologies/1_8.jpg\n",
            "./gdrive/My Drive/Colab Notebooks/logo/dell-technologies/1_9.jpg\n",
            "./gdrive/My Drive/Colab Notebooks/logo/dell-technologies/1_10.jpg\n",
            "./gdrive/My Drive/Colab Notebooks/logo/dell-technologies/1_11.jpg\n",
            "./gdrive/My Drive/Colab Notebooks/logo/dell-technologies/1_12.jpg\n",
            "./gdrive/My Drive/Colab Notebooks/logo/dell-technologies/1_13.jpg\n",
            "./gdrive/My Drive/Colab Notebooks/logo/dell-technologies/1_14.jpg\n",
            "./gdrive/My Drive/Colab Notebooks/logo/dell-technologies/1_15.jpg\n",
            "./gdrive/My Drive/Colab Notebooks/logo/dell-technologies/1_16.jpg\n",
            "./gdrive/My Drive/Colab Notebooks/logo/dell-technologies/1_17.jpg\n",
            "./gdrive/My Drive/Colab Notebooks/logo/dell-technologies/1_18.jpg\n",
            "./gdrive/My Drive/Colab Notebooks/logo/dell-technologies/1_19.jpg\n",
            "21\n",
            "./gdrive/My Drive/Colab Notebooks/logo/dell-technologies/2_0.jpg\n",
            "./gdrive/My Drive/Colab Notebooks/logo/dell-technologies/2_1.jpg\n",
            "./gdrive/My Drive/Colab Notebooks/logo/dell-technologies/2_2.jpg\n",
            "./gdrive/My Drive/Colab Notebooks/logo/dell-technologies/2_3.jpg\n",
            "./gdrive/My Drive/Colab Notebooks/logo/dell-technologies/2_4.jpg\n",
            "./gdrive/My Drive/Colab Notebooks/logo/dell-technologies/2_5.jpg\n",
            "./gdrive/My Drive/Colab Notebooks/logo/dell-technologies/2_6.jpg\n",
            "./gdrive/My Drive/Colab Notebooks/logo/dell-technologies/2_7.jpg\n",
            "./gdrive/My Drive/Colab Notebooks/logo/dell-technologies/2_8.jpg\n",
            "./gdrive/My Drive/Colab Notebooks/logo/dell-technologies/2_9.jpg\n",
            "./gdrive/My Drive/Colab Notebooks/logo/dell-technologies/2_10.jpg\n",
            "./gdrive/My Drive/Colab Notebooks/logo/dell-technologies/2_11.jpg\n",
            "./gdrive/My Drive/Colab Notebooks/logo/dell-technologies/2_12.jpg\n",
            "./gdrive/My Drive/Colab Notebooks/logo/dell-technologies/2_13.jpg\n",
            "./gdrive/My Drive/Colab Notebooks/logo/dell-technologies/2_14.jpg\n",
            "./gdrive/My Drive/Colab Notebooks/logo/dell-technologies/2_15.jpg\n",
            "./gdrive/My Drive/Colab Notebooks/logo/dell-technologies/2_16.jpg\n",
            "./gdrive/My Drive/Colab Notebooks/logo/dell-technologies/2_17.jpg\n",
            "./gdrive/My Drive/Colab Notebooks/logo/dell-technologies/2_18.jpg\n",
            "./gdrive/My Drive/Colab Notebooks/logo/dell-technologies/2_19.jpg\n",
            "41\n",
            "./gdrive/My Drive/Colab Notebooks/logo/dell-technologies/3_0.jpg\n",
            "./gdrive/My Drive/Colab Notebooks/logo/dell-technologies/3_1.jpg\n",
            "./gdrive/My Drive/Colab Notebooks/logo/dell-technologies/3_2.jpg\n",
            "./gdrive/My Drive/Colab Notebooks/logo/dell-technologies/3_3.jpg\n",
            "./gdrive/My Drive/Colab Notebooks/logo/dell-technologies/3_4.jpg\n",
            "./gdrive/My Drive/Colab Notebooks/logo/dell-technologies/3_5.jpg\n",
            "./gdrive/My Drive/Colab Notebooks/logo/dell-technologies/3_6.jpg\n",
            "./gdrive/My Drive/Colab Notebooks/logo/dell-technologies/3_7.jpg\n",
            "./gdrive/My Drive/Colab Notebooks/logo/dell-technologies/3_8.jpg\n",
            "./gdrive/My Drive/Colab Notebooks/logo/dell-technologies/3_9.jpg\n",
            "./gdrive/My Drive/Colab Notebooks/logo/dell-technologies/3_10.jpg\n",
            "./gdrive/My Drive/Colab Notebooks/logo/dell-technologies/3_11.jpg\n",
            "./gdrive/My Drive/Colab Notebooks/logo/dell-technologies/3_12.jpg\n",
            "./gdrive/My Drive/Colab Notebooks/logo/dell-technologies/3_13.jpg\n",
            "./gdrive/My Drive/Colab Notebooks/logo/dell-technologies/3_14.jpg\n",
            "./gdrive/My Drive/Colab Notebooks/logo/dell-technologies/3_15.jpg\n",
            "./gdrive/My Drive/Colab Notebooks/logo/dell-technologies/3_16.jpg\n",
            "./gdrive/My Drive/Colab Notebooks/logo/dell-technologies/3_17.jpg\n",
            "./gdrive/My Drive/Colab Notebooks/logo/dell-technologies/3_18.jpg\n",
            "./gdrive/My Drive/Colab Notebooks/logo/dell-technologies/3_19.jpg\n",
            "61\n",
            "./gdrive/My Drive/Colab Notebooks/logo/dell-technologies/4_0.jpg\n",
            "./gdrive/My Drive/Colab Notebooks/logo/dell-technologies/4_1.jpg\n",
            "./gdrive/My Drive/Colab Notebooks/logo/dell-technologies/4_2.jpg\n",
            "./gdrive/My Drive/Colab Notebooks/logo/dell-technologies/4_3.jpg\n",
            "./gdrive/My Drive/Colab Notebooks/logo/dell-technologies/4_4.jpg\n",
            "./gdrive/My Drive/Colab Notebooks/logo/dell-technologies/4_5.jpg\n",
            "./gdrive/My Drive/Colab Notebooks/logo/dell-technologies/4_6.jpg\n",
            "./gdrive/My Drive/Colab Notebooks/logo/dell-technologies/4_7.jpg\n",
            "./gdrive/My Drive/Colab Notebooks/logo/dell-technologies/4_8.jpg\n",
            "./gdrive/My Drive/Colab Notebooks/logo/dell-technologies/4_9.jpg\n",
            "./gdrive/My Drive/Colab Notebooks/logo/dell-technologies/4_10.jpg\n",
            "./gdrive/My Drive/Colab Notebooks/logo/dell-technologies/4_11.jpg\n",
            "./gdrive/My Drive/Colab Notebooks/logo/dell-technologies/4_12.jpg\n",
            "./gdrive/My Drive/Colab Notebooks/logo/dell-technologies/4_13.jpg\n",
            "./gdrive/My Drive/Colab Notebooks/logo/dell-technologies/4_14.jpg\n",
            "./gdrive/My Drive/Colab Notebooks/logo/dell-technologies/4_15.jpg\n",
            "./gdrive/My Drive/Colab Notebooks/logo/dell-technologies/4_16.jpg\n",
            "./gdrive/My Drive/Colab Notebooks/logo/dell-technologies/4_17.jpg\n",
            "./gdrive/My Drive/Colab Notebooks/logo/dell-technologies/4_18.jpg\n",
            "./gdrive/My Drive/Colab Notebooks/logo/dell-technologies/4_19.jpg\n",
            "81\n",
            "./gdrive/My Drive/Colab Notebooks/logo/dell-technologies/5_0.jpg\n",
            "./gdrive/My Drive/Colab Notebooks/logo/dell-technologies/5_1.jpg\n",
            "./gdrive/My Drive/Colab Notebooks/logo/dell-technologies/5_2.jpg\n",
            "./gdrive/My Drive/Colab Notebooks/logo/dell-technologies/5_3.jpg\n",
            "./gdrive/My Drive/Colab Notebooks/logo/dell-technologies/5_4.jpg\n",
            "./gdrive/My Drive/Colab Notebooks/logo/dell-technologies/5_5.jpg\n",
            "./gdrive/My Drive/Colab Notebooks/logo/dell-technologies/5_6.jpg\n",
            "./gdrive/My Drive/Colab Notebooks/logo/dell-technologies/5_7.jpg\n",
            "./gdrive/My Drive/Colab Notebooks/logo/dell-technologies/5_8.jpg\n",
            "./gdrive/My Drive/Colab Notebooks/logo/dell-technologies/5_9.jpg\n",
            "./gdrive/My Drive/Colab Notebooks/logo/dell-technologies/5_10.jpg\n",
            "./gdrive/My Drive/Colab Notebooks/logo/dell-technologies/5_11.jpg\n",
            "./gdrive/My Drive/Colab Notebooks/logo/dell-technologies/5_12.jpg\n",
            "./gdrive/My Drive/Colab Notebooks/logo/dell-technologies/5_13.jpg\n",
            "./gdrive/My Drive/Colab Notebooks/logo/dell-technologies/5_14.jpg\n",
            "./gdrive/My Drive/Colab Notebooks/logo/dell-technologies/5_15.jpg\n",
            "./gdrive/My Drive/Colab Notebooks/logo/dell-technologies/5_16.jpg\n",
            "./gdrive/My Drive/Colab Notebooks/logo/dell-technologies/5_17.jpg\n",
            "./gdrive/My Drive/Colab Notebooks/logo/dell-technologies/5_18.jpg\n",
            "./gdrive/My Drive/Colab Notebooks/logo/dell-technologies/5_19.jpg\n"
          ],
          "name": "stdout"
        }
      ]
    },
    {
      "cell_type": "code",
      "metadata": {
        "id": "VbOtgY4aeTwS",
        "colab_type": "code",
        "colab": {}
      },
      "source": [
        ""
      ],
      "execution_count": null,
      "outputs": []
    }
  ]
}